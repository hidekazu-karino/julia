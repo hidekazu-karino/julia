{
 "cells": [
  {
   "cell_type": "markdown",
   "metadata": {},
   "source": [
    "# パッケージ"
   ]
  },
  {
   "cell_type": "code",
   "execution_count": 1,
   "metadata": {},
   "outputs": [
    {
     "name": "stderr",
     "output_type": "stream",
     "text": [
      "┌ Info: Recompiling stale cache file /Users/hidekazu/.julia/compiled/v1.0/DataFrames/AR9oZ.ji for DataFrames [a93c6f00-e57d-5684-b7b6-d8193f3e46c0]\n",
      "└ @ Base loading.jl:1184\n",
      "┌ Info: Recompiling stale cache file /Users/hidekazu/.julia/compiled/v1.0/CSV/HHBkp.ji for CSV [336ed68f-0bac-5ca0-87d4-7b16caf5d00b]\n",
      "└ @ Base loading.jl:1184\n"
     ]
    }
   ],
   "source": [
    "using DataFrames\n",
    "using CSV\n",
    "using StatsBase"
   ]
  },
  {
   "cell_type": "markdown",
   "metadata": {},
   "source": [
    "# 記法"
   ]
  },
  {
   "cell_type": "markdown",
   "metadata": {},
   "source": [
    "コメントアウトは一行は#\n",
    "\n",
    "cf)# ここからコメントアウト\n",
    "\n",
    "複数行は#=で囲む．\n",
    "\n",
    "cf)\n",
    "\n",
    "#=\n",
    "\n",
    "ここから\n",
    "\n",
    "こめんとあうと\n",
    "\n",
    "=#"
   ]
  },
  {
   "cell_type": "markdown",
   "metadata": {},
   "source": [
    "# 型"
   ]
  },
  {
   "cell_type": "markdown",
   "metadata": {},
   "source": [
    "## 型の確認\n",
    "型の確認はtypeof()で行う"
   ]
  },
  {
   "cell_type": "code",
   "execution_count": 19,
   "metadata": {},
   "outputs": [
    {
     "name": "stdout",
     "output_type": "stream",
     "text": [
      "String\n"
     ]
    }
   ],
   "source": [
    "type_string = \"test\"\n",
    "println(typeof(type_string))"
   ]
  },
  {
   "cell_type": "markdown",
   "metadata": {},
   "source": [
    "## string\n",
    "string型はダブルクオーテーションで囲まないとinvalid syntaxエラーが出る．"
   ]
  },
  {
   "cell_type": "code",
   "execution_count": 6,
   "metadata": {},
   "outputs": [
    {
     "name": "stdout",
     "output_type": "stream",
     "text": [
      "test\n"
     ]
    }
   ],
   "source": [
    "#word_singleq = 'test'\n",
    "word_doubleq = \"test\"\n",
    "#println(word_singleq)\n",
    "println(word_doubleq)"
   ]
  },
  {
   "cell_type": "markdown",
   "metadata": {},
   "source": [
    "# 配列"
   ]
  },
  {
   "cell_type": "markdown",
   "metadata": {},
   "source": [
    "## 一次元配列\n",
    "### やめたほうがいい生成方法\n",
    "Array{Type,dimension}で配列を生成できるが，長さを取得したり各成分を取り出せないのでこの方法で生成しないほうがいい"
   ]
  },
  {
   "cell_type": "code",
   "execution_count": 9,
   "metadata": {},
   "outputs": [
    {
     "name": "stdout",
     "output_type": "stream",
     "text": [
      "Array{Int64,1}\n"
     ]
    },
    {
     "ename": "LoadError",
     "evalue": "\u001b[91mMethodError: no method matching length(::Type{Array{Int64,1}})\u001b[0m\nClosest candidates are:\n  length(\u001b[91m::SimpleVector\u001b[39m) at essentials.jl:256\n  length(\u001b[91m::Base.MethodList\u001b[39m) at reflection.jl:558\n  length(\u001b[91m::MethodTable\u001b[39m) at reflection.jl:634\n  ...\u001b[39m",
     "output_type": "error",
     "traceback": [
      "\u001b[91mMethodError: no method matching length(::Type{Array{Int64,1}})\u001b[0m\nClosest candidates are:\n  length(\u001b[91m::SimpleVector\u001b[39m) at essentials.jl:256\n  length(\u001b[91m::Base.MethodList\u001b[39m) at reflection.jl:558\n  length(\u001b[91m::MethodTable\u001b[39m) at reflection.jl:634\n  ...\u001b[39m",
      ""
     ]
    }
   ],
   "source": [
    "x = Array{Int64,1}\n",
    "println(x)\n",
    "println(length(x))\n"
   ]
  },
  {
   "cell_type": "code",
   "execution_count": 33,
   "metadata": {},
   "outputs": [
    {
     "name": "stdout",
     "output_type": "stream",
     "text": [
      "1\n",
      "2\n",
      "3\n",
      "4\n",
      "5\n",
      "6\n",
      "7\n",
      "8\n",
      "9\n",
      "10\n",
      "2.5\n",
      "3.0555555555555554\n",
      "3.611111111111111\n",
      "4.166666666666667\n",
      "4.722222222222222\n",
      "5.277777777777778\n",
      "5.833333333333333\n",
      "6.388888888888889\n",
      "6.944444444444445\n",
      "7.5\n"
     ]
    }
   ],
   "source": [
    "a = [i for i in 1:10]\n",
    "for i in 1:length(a)\n",
    "    println(i)\n",
    "end\n",
    "b = linspace(2.5,7.5,10)\n",
    "for i in 1:length(b)\n",
    "    println(b[i])\n",
    "end"
   ]
  },
  {
   "cell_type": "code",
   "execution_count": null,
   "metadata": {},
   "outputs": [],
   "source": [
    "### 縦ベクトルか横ベクトルか\n",
    "一次元配列は縦ベクトルか横ベクトルかどっちなのか．結論を言えば縦ベクトル扱い."
   ]
  },
  {
   "cell_type": "code",
   "execution_count": 8,
   "metadata": {},
   "outputs": [
    {
     "name": "stdout",
     "output_type": "stream",
     "text": [
      "20\n",
      "[4 3 2 1; 8 6 4 2; 12 9 6 3; 16 12 8 4]\n"
     ]
    }
   ],
   "source": [
    "s = [1,2,3,4]#縦ベクトル\n",
    "t = transpose([4,3,2,1])#縦ベクトルの転置，すなわち横ベクトル\n",
    "println(t*s)#横ベクトルかける縦ベクトル，結果はスカラー\n",
    "println(s*t)#縦ベクトルかける横ベクトル，結果は行列(テンソル？)"
   ]
  },
  {
   "cell_type": "markdown",
   "metadata": {},
   "source": [
    "### zeros(),ones()など\n",
    "zeros(m),ones(m)でm個の0,1が格納された配列が生成される．リスト内包表記でもいいだろう．"
   ]
  },
  {
   "cell_type": "code",
   "execution_count": 38,
   "metadata": {},
   "outputs": [
    {
     "name": "stdout",
     "output_type": "stream",
     "text": [
      "[0.0, 0.0, 0.0]\n",
      "[1.0, 2.0, 3.0]\n",
      "[1, 2, 3, 4, 5, 6, 7, 8, 9, 10, 11, 12]\n",
      "[1.5, 2.59808, 3.0, 2.59808, 1.5, 3.67394e-16, -1.5, -2.59808, -3.0, -2.59808, -1.5, -7.34788e-16]\n",
      "[1.5, 2.59808, 3.0, 2.59808, 1.5, 0.0, -1.5, -2.59808, -3.0, -2.59808, -1.5, 0.0]\n",
      "[0.166667, 0.333333, 0.5, 0.666667, 0.833333, 1.0, 1.16667, 1.33333, 1.5, 1.66667, 1.83333, 2.0]\n",
      "[1.66667, 3.33333, 5.0, 6.66667, 8.33333, 10.0, 11.6667, 13.3333, 15.0, 16.6667, 18.3333, 20.0]\n"
     ]
    },
    {
     "ename": "LoadError",
     "evalue": "MethodError: no method matching Array{Float64,N} where N(::Int64, ::Int64)\nClosest candidates are:\n  Array{Float64,N} where N(!Matched::UndefInitializer, ::Int64) where T at boot.jl:408\n  Array{Float64,N} where N(!Matched::UndefInitializer, ::Int64, !Matched::Int64) where T at boot.jl:409\n  Array{Float64,N} where N(!Matched::UndefInitializer, ::Int64, !Matched::Int64, !Matched::Int64) where T at boot.jl:410\n  ...",
     "output_type": "error",
     "traceback": [
      "MethodError: no method matching Array{Float64,N} where N(::Int64, ::Int64)\nClosest candidates are:\n  Array{Float64,N} where N(!Matched::UndefInitializer, ::Int64) where T at boot.jl:408\n  Array{Float64,N} where N(!Matched::UndefInitializer, ::Int64, !Matched::Int64) where T at boot.jl:409\n  Array{Float64,N} where N(!Matched::UndefInitializer, ::Int64, !Matched::Int64, !Matched::Int64) where T at boot.jl:410\n  ...",
      "",
      "Stacktrace:",
      " [1] top-level scope at none:0"
     ]
    }
   ],
   "source": [
    "x = zeros(3)\n",
    "println(x)\n",
    "for i in 1:length(x)\n",
    "    x[i] = i\n",
    "end\n",
    "println(x)\n",
    "y = [i for i in 1:12]\n",
    "println(y)\n",
    "println(3.0*sin.(y/6*pi))\n",
    "println(3.0*sinpi.(y/6))\n",
    "println(y/6)\n",
    "println(y/.6)\n",
    "z = Array{Float64}(2,12)\n",
    "z[1,:] = y/6+3\n",
    "z[2,:] = y/.6\n",
    "println(z[:,1])"
   ]
  },
  {
   "cell_type": "markdown",
   "metadata": {},
   "source": [
    "## 多次元配列\n",
    "zeros(m,n)などで2次元配列を生成できる．3次元以上の配列も同様だがnp.array()のように[]がつかないので理解しにくい気がする．"
   ]
  },
  {
   "cell_type": "code",
   "execution_count": 29,
   "metadata": {},
   "outputs": [
    {
     "name": "stdout",
     "output_type": "stream",
     "text": [
      "x\n",
      "[0.0 0.0 0.0; 0.0 0.0 0.0]\n",
      "y\n",
      "[0.0 0.0 0.0; 0.0 0.0 0.0]\n",
      "\n",
      "[0.0 0.0 0.0; 0.0 0.0 0.0]\n",
      "\n",
      "[0.0 0.0 0.0; 0.0 0.0 0.0]\n",
      "\n",
      "[0.0 0.0 0.0; 0.0 0.0 0.0]\n",
      "z\n",
      "[1.0 1.0 1.0; 1.0 1.0 1.0]\n",
      "\n",
      "[2.0 2.0 2.0; 2.0 2.0 2.0]\n",
      "\n",
      "[3.0 3.0 3.0; 3.0 3.0 3.0]\n",
      "\n",
      "[4.0 4.0 4.0; 4.0 4.0 4.0]\n",
      "\n",
      "[2.0 2.0 2.0; 2.0 2.0 2.0]\n",
      "\n",
      "[4.0 4.0 4.0; 4.0 4.0 4.0]\n",
      "\n",
      "[6.0 6.0 6.0; 6.0 6.0 6.0]\n",
      "\n",
      "[8.0 8.0 8.0; 8.0 8.0 8.0]\n",
      "\n",
      "[3.0 3.0 3.0; 3.0 3.0 3.0]\n",
      "\n",
      "[6.0 6.0 6.0; 6.0 6.0 6.0]\n",
      "\n",
      "[9.0 9.0 9.0; 9.0 9.0 9.0]\n",
      "\n",
      "[12.0 12.0 12.0; 12.0 12.0 12.0]\n",
      "\n",
      "[4.0 4.0 4.0; 4.0 4.0 4.0]\n",
      "\n",
      "[8.0 8.0 8.0; 8.0 8.0 8.0]\n",
      "\n",
      "[12.0 12.0 12.0; 12.0 12.0 12.0]\n",
      "\n",
      "[16.0 16.0 16.0; 16.0 16.0 16.0]\n",
      "\n",
      "[5.0 5.0 5.0; 5.0 5.0 5.0]\n",
      "\n",
      "[10.0 10.0 10.0; 10.0 10.0 10.0]\n",
      "\n",
      "[15.0 15.0 15.0; 15.0 15.0 15.0]\n",
      "\n",
      "[20.0 20.0 20.0; 20.0 20.0 20.0]\n"
     ]
    }
   ],
   "source": [
    "x = zeros(2,3)\n",
    "y = zeros(2,3,4)\n",
    "z = zeros(2,3,4,5)\n",
    "for i in 1:4\n",
    "    for j in 1:5\n",
    "        z[:,:,i,j] = i*j*ones(2,3)\n",
    "    end\n",
    "end\n",
    "println(\"x\")\n",
    "println(x)\n",
    "println(\"y\")\n",
    "println(y)\n",
    "println(\"z\")\n",
    "println(z)"
   ]
  },
  {
   "cell_type": "markdown",
   "metadata": {},
   "source": [
    "## Broadcast"
   ]
  },
  {
   "cell_type": "code",
   "execution_count": 1,
   "metadata": {},
   "outputs": [
    {
     "name": "stdout",
     "output_type": "stream",
     "text": [
      "x's type is Array{Int64,1}\n"
     ]
    },
    {
     "ename": "LoadError",
     "evalue": "\u001b[91mMethodError: no method matching /(::Float64, ::Array{Float64,1})\u001b[0m\nClosest candidates are:\n  /(::Float64, \u001b[91m::Float64\u001b[39m) at float.jl:381\n  /(::R<:Real, \u001b[91m::S<:Complex\u001b[39m) where {R<:Real, S<:Complex} at complex.jl:278\n  /(::Union{Float16, Float32, Float64}, \u001b[91m::BigFloat\u001b[39m) at mpfr.jl:356\n  ...\u001b[39m",
     "output_type": "error",
     "traceback": [
      "\u001b[91mMethodError: no method matching /(::Float64, ::Array{Float64,1})\u001b[0m\nClosest candidates are:\n  /(::Float64, \u001b[91m::Float64\u001b[39m) at float.jl:381\n  /(::R<:Real, \u001b[91m::S<:Complex\u001b[39m) where {R<:Real, S<:Complex} at complex.jl:278\n  /(::Union{Float16, Float32, Float64}, \u001b[91m::BigFloat\u001b[39m) at mpfr.jl:356\n  ...\u001b[39m",
      ""
     ]
    }
   ],
   "source": [
    "x = [i for i in 1:10]\n",
    "x_type = typeof(x)\n",
    "println(\"x's type is $(x_type)\")\n",
    "y = 1.0 ./ (2.0 .+ x)\n",
    "y_1 = 1.0 /(2.0 .+ x)\n",
    "y_type = typeof(y)\n",
    "println(y)\n",
    "println(typeof(y_1))\n",
    "println(\"y's type is $(y_type)\")\n",
    "println(y_1*(2.0 .+ x))\n",
    "println(y.*(2.0 .+ x))"
   ]
  },
  {
   "cell_type": "markdown",
   "metadata": {},
   "source": [
    "3次元以上の配列を作るにはArray{Type}(d1,d2,d3)のように生成して各成分を割り当てる．(Array{Type,d1,d2,d3}だとwarningが出る)"
   ]
  },
  {
   "cell_type": "code",
   "execution_count": 17,
   "metadata": {},
   "outputs": [
    {
     "name": "stdout",
     "output_type": "stream",
     "text": [
      "[0 0 0; 0 0 0]\n",
      "\n",
      "[1 1 1; 1 1 1]\n"
     ]
    }
   ],
   "source": [
    "x = Array{Int64}(2,3,2)\n",
    "x[:,:,1] = zeros(2,3)\n",
    "x[:,:,2] = ones(2,3)\n",
    "println(x)"
   ]
  },
  {
   "cell_type": "code",
   "execution_count": 25,
   "metadata": {},
   "outputs": [
    {
     "name": "stdout",
     "output_type": "stream",
     "text": [
      "0.0\n",
      "6\n",
      "(2, 3)\n",
      "[1 2; 3 4; 5 6]\n"
     ]
    }
   ],
   "source": [
    "x = zeros(2,3)\n",
    "println(x[1])\n",
    "println(length(x))\n",
    "println(size(x))\n",
    "y = Array{Int64}(3,2)\n",
    "y[1,:] = [1,2]\n",
    "y[2,:] = [3,4]\n",
    "y[3,:] = [5,6]\n",
    "println(y)"
   ]
  },
  {
   "cell_type": "markdown",
   "metadata": {},
   "source": [
    "# 辞書型"
   ]
  },
  {
   "cell_type": "markdown",
   "metadata": {},
   "source": [
    "## 辞書の作り方\n",
    "Dict{KeyType,ValueType}(key =>value)の形で宣言する．"
   ]
  },
  {
   "cell_type": "code",
   "execution_count": 13,
   "metadata": {},
   "outputs": [
    {
     "name": "stdout",
     "output_type": "stream",
     "text": [
      "Dict(\"c\"=>1,\"b\"=>5,\"a\"=>3)\n"
     ]
    }
   ],
   "source": [
    "test_dict = Dict{String,Int64}(\"a\" =>3,\"b\" => 5,\"c\"=>1)\n",
    "println(test_dict)"
   ]
  },
  {
   "cell_type": "markdown",
   "metadata": {},
   "source": [
    "## 単語の出現回数を辞書に保存する\n",
    "配列における単語などの出現回数をカウントするときは辞書を使うことになると思う．このとき最初キーが存在しないとエラーが出る．そのようなときはget(d::Dict,k::key,x::default value)を使う．これはdにおけるkが存在しないときはxを返すようにするものである．"
   ]
  },
  {
   "cell_type": "code",
   "execution_count": 4,
   "metadata": {},
   "outputs": [
    {
     "name": "stdout",
     "output_type": "stream",
     "text": [
      "Dict(\"orange\"=>2,\"apple\"=>2,\"grape\"=>1)\n",
      "String[\"apple\", \"orange\", \"apple\", \"grape\", \"orange\"]\n"
     ]
    }
   ],
   "source": [
    "test = [\"apple\",\"orange\",\"apple\",\"grape\",\"orange\"]\n",
    "dict_test = Dict{String,Int64}()\n",
    "for i in 1:length(test)\n",
    "    dict_test[test[i]] = get(dict_test, test[i], 0) + 1\n",
    "end\n",
    "println(dict_test)\n",
    "println(test)"
   ]
  },
  {
   "cell_type": "markdown",
   "metadata": {},
   "source": [
    "## key,valueの取得\n",
    "keys(dict),values(dict)でキーと値の配列を取得できる．"
   ]
  },
  {
   "cell_type": "code",
   "execution_count": 14,
   "metadata": {},
   "outputs": [
    {
     "name": "stdout",
     "output_type": "stream",
     "text": [
      "String[\"c\", \"b\", \"a\"]\n",
      "[1, 5, 3]\n"
     ]
    }
   ],
   "source": [
    "test_dict = Dict{String,Int64}(\"a\" =>3,\"b\" => 5,\"c\"=>1)\n",
    "println(keys(test_dict))\n",
    "println(values(test_dict))"
   ]
  },
  {
   "cell_type": "markdown",
   "metadata": {},
   "source": [
    "# オブジェクト指向\n",
    "## メソッド\n",
    "完全なオブジェクト指向ではないらしいがjuliaでもオブジェクト指向っぽいことはできる．クラスの定義の際にメンバ変数が変更できない場合はstruct class_name,メンバ変数が変更可能な場合はmutable struct class_nameで宣言する．\n",
    "\n",
    "メソッドはクラス定義の外で書くのに注意．これがpythonとかとは違う．"
   ]
  },
  {
   "cell_type": "code",
   "execution_count": 21,
   "metadata": {},
   "outputs": [
    {
     "name": "stdout",
     "output_type": "stream",
     "text": [
      "[1.0, 2.0, 3.0, 4.0][3.0, 4.0, 5.0, 6.0]"
     ]
    }
   ],
   "source": [
    "mutable struct ClassTest\n",
    "    x::Float64\n",
    "    y::Array{Float64,1}\n",
    "end\n",
    "\n",
    "function add(t::ClassTest)\n",
    "   t.y .+= t.x  \n",
    "end\n",
    "x = 2.0\n",
    "y = [1.0,2.0,3.0,4.0]\n",
    "t = ClassTest(x,y)\n",
    "print(t.y)\n",
    "add(t)\n",
    "print(t.y)"
   ]
  },
  {
   "cell_type": "markdown",
   "metadata": {},
   "source": [
    "# 関数\n",
    "## 初等関数\n",
    "多変量正規分布の尤度関数を考えるときはlogdet()を使うといい．場合によっては行列式が0に近くなることがあるので．"
   ]
  },
  {
   "cell_type": "code",
   "execution_count": 19,
   "metadata": {},
   "outputs": [
    {
     "name": "stdout",
     "output_type": "stream",
     "text": [
      "0.6931471805599453\n",
      "0.6931471805599453\n"
     ]
    }
   ],
   "source": [
    "A = reshape([1,2,3,8],2,2)\n",
    "println(log(det(A)))\n",
    "println(logdet(A))"
   ]
  },
  {
   "cell_type": "markdown",
   "metadata": {},
   "source": [
    "# DataFrame\n"
   ]
  },
  {
   "cell_type": "markdown",
   "metadata": {},
   "source": [
    "## DataFrameの例(iris.csvから作成)"
   ]
  },
  {
   "cell_type": "code",
   "execution_count": 2,
   "metadata": {},
   "outputs": [
    {
     "name": "stdout",
     "output_type": "stream",
     "text": [
      "150×6 DataFrame. Omitted printing of 1 columns\n",
      "│ Row │     │ Sepal.Length │ Sepal.Width │ Petal.Length │ Petal.Width │\n",
      "├─────┼─────┼──────────────┼─────────────┼──────────────┼─────────────┤\n",
      "│ 1   │ 1   │ 5.1          │ 3.5         │ 1.4          │ 0.2         │\n",
      "│ 2   │ 2   │ 4.9          │ 3.0         │ 1.4          │ 0.2         │\n",
      "│ 3   │ 3   │ 4.7          │ 3.2         │ 1.3          │ 0.2         │\n",
      "│ 4   │ 4   │ 4.6          │ 3.1         │ 1.5          │ 0.2         │\n",
      "│ 5   │ 5   │ 5.0          │ 3.6         │ 1.4          │ 0.2         │\n",
      "│ 6   │ 6   │ 5.4          │ 3.9         │ 1.7          │ 0.4         │\n",
      "│ 7   │ 7   │ 4.6          │ 3.4         │ 1.4          │ 0.3         │\n",
      "│ 8   │ 8   │ 5.0          │ 3.4         │ 1.5          │ 0.2         │\n",
      "⋮\n",
      "│ 142 │ 142 │ 6.9          │ 3.1         │ 5.1          │ 2.3         │\n",
      "│ 143 │ 143 │ 5.8          │ 2.7         │ 5.1          │ 1.9         │\n",
      "│ 144 │ 144 │ 6.8          │ 3.2         │ 5.9          │ 2.3         │\n",
      "│ 145 │ 145 │ 6.7          │ 3.3         │ 5.7          │ 2.5         │\n",
      "│ 146 │ 146 │ 6.7          │ 3.0         │ 5.2          │ 2.3         │\n",
      "│ 147 │ 147 │ 6.3          │ 2.5         │ 5.0          │ 1.9         │\n",
      "│ 148 │ 148 │ 6.5          │ 3.0         │ 5.2          │ 2.0         │\n",
      "│ 149 │ 149 │ 6.2          │ 3.4         │ 5.4          │ 2.3         │\n",
      "│ 150 │ 150 │ 5.9          │ 3.0         │ 5.1          │ 1.8         │"
     ]
    }
   ],
   "source": [
    "#CSVで読み込むと自動的にDataFrame形式になるらしい\n",
    "sample_df = CSV.read(\"iris.csv\")\n",
    "print(sample_df)\n"
   ]
  },
  {
   "cell_type": "markdown",
   "metadata": {},
   "source": [
    "## CategoricalArray"
   ]
  },
  {
   "cell_type": "code",
   "execution_count": 17,
   "metadata": {},
   "outputs": [
    {
     "name": "stdout",
     "output_type": "stream",
     "text": [
      "CategoricalArrays.CategoricalArray{Union{Missings.Missing, String},1,UInt32,String,CategoricalArrays.CategoricalString{UInt32},Missings.Missing}\n"
     ]
    }
   ],
   "source": [
    "#上のirisデータセットだと:SpeciesがCategoricalArrayである．\n",
    "println(typeof(sample_df[:Species]))"
   ]
  },
  {
   "cell_type": "markdown",
   "metadata": {},
   "source": [
    "### levels\n",
    "levelsの日本語訳がよくわからないが，カテゴリ名のようなものなのだろうか．Categorical変数に対してlevels()関数を適用するとその中のlevelsをとってこれる．"
   ]
  },
  {
   "cell_type": "code",
   "execution_count": 20,
   "metadata": {},
   "outputs": [
    {
     "name": "stdout",
     "output_type": "stream",
     "text": [
      "String[\"setosa\", \"versicolor\", \"virginica\"]\n"
     ]
    }
   ],
   "source": [
    "println(levels(sample_df[:Species]))"
   ]
  },
  {
   "cell_type": "markdown",
   "metadata": {},
   "source": [
    "## DataFrameの生成,結合"
   ]
  },
  {
   "cell_type": "code",
   "execution_count": 36,
   "metadata": {},
   "outputs": [
    {
     "data": {
      "text/html": [
       "<table class=\"data-frame\"><thead><tr><th></th><th>A</th><th>B</th><th>C</th></tr></thead><tbody><tr><th>1</th><td>1.0</td><td>2.0</td><td>test1</td></tr><tr><th>2</th><td>3.0</td><td>9.0</td><td>test2</td></tr></tbody></table>"
      ],
      "text/plain": [
       "2×3 DataFrames.DataFrame\n",
       "│ Row │ A   │ B   │ C     │\n",
       "├─────┼─────┼─────┼───────┤\n",
       "│ 1   │ 1.0 │ 2.0 │ test1 │\n",
       "│ 2   │ 3.0 │ 9.0 │ test2 │"
      ]
     },
     "execution_count": 36,
     "metadata": {},
     "output_type": "execute_result"
    }
   ],
   "source": [
    "df1 = DataFrame(A=1.0,B=2.0,C=\"test1\")\n",
    "df2 = DataFrame(A=3.0,B=9.0,C=\"test2\")\n",
    "vcat(df1,df2)"
   ]
  },
  {
   "cell_type": "markdown",
   "metadata": {},
   "source": [
    "## 直積的なもの"
   ]
  },
  {
   "cell_type": "code",
   "execution_count": 46,
   "metadata": {},
   "outputs": [
    {
     "name": "stdout",
     "output_type": "stream",
     "text": [
      "28×2 DataFrames.DataFrame\n",
      "│ Row │ a   │ b    │\n",
      "├─────┼─────┼──────┤\n",
      "│ 1   │ 1.0 │ 10.0 │\n",
      "│ 2   │ 1.0 │ 11.0 │\n",
      "│ 3   │ 1.0 │ 12.0 │\n",
      "│ 4   │ 1.0 │ 13.0 │\n",
      "│ 5   │ 1.0 │ 14.0 │\n",
      "│ 6   │ 1.0 │ 15.0 │\n",
      "│ 7   │ 1.0 │ 16.0 │\n",
      "│ 8   │ 2.0 │ 10.0 │\n",
      "⋮\n",
      "│ 20  │ 3.0 │ 15.0 │\n",
      "│ 21  │ 3.0 │ 16.0 │\n",
      "│ 22  │ 4.0 │ 10.0 │\n",
      "│ 23  │ 4.0 │ 11.0 │\n",
      "│ 24  │ 4.0 │ 12.0 │\n",
      "│ 25  │ 4.0 │ 13.0 │\n",
      "│ 26  │ 4.0 │ 14.0 │\n",
      "│ 27  │ 4.0 │ 15.0 │\n",
      "│ 28  │ 4.0 │ 16.0 │\n"
     ]
    }
   ],
   "source": [
    "a = linspace(1,4,4)\n",
    "b = linspace(10,16,7)\n",
    "a_list = zeros(length(a)*length(b))\n",
    "b_list = zeros(length(a)*length(b))\n",
    "df = DataFrame(a=a_list,b=b_list)\n",
    "for i_a in 1:length(a)\n",
    "    a_i = a[i_a]\n",
    "    for i_b in 1:length(b)\n",
    "        b_i = b[i_b]\n",
    "        index = (i_a-1)*length(b)+i_b\n",
    "        df[index,:a] = a_i\n",
    "        df[index,:b] = b_i\n",
    "    end\n",
    "end\n",
    "println(df)"
   ]
  },
  {
   "cell_type": "markdown",
   "metadata": {},
   "source": [
    "## 列名の取得\n",
    "pythonではpandas.columnsで取得できるが，juliaではnames(DataFrame)で取得できる．DataFrame.colindexでも似たようなものが得られるがこれは何かよくわからない．"
   ]
  },
  {
   "cell_type": "code",
   "execution_count": 23,
   "metadata": {},
   "outputs": [
    {
     "name": "stdout",
     "output_type": "stream",
     "text": [
      "Symbol[Symbol(\"\"), Symbol(\"Sepal.Length\"), Symbol(\"Sepal.Width\"), Symbol(\"Petal.Length\"), Symbol(\"Petal.Width\"), :Species]\n",
      "DataFrames.Index(Dict(Symbol(\"\")=>1,Symbol(\"Petal.Length\")=>4,Symbol(\"Sepal.Width\")=>3,Symbol(\"Sepal.Length\")=>2,Symbol(\"Petal.Width\")=>5,:Species=>6), Symbol[Symbol(\"\"), Symbol(\"Sepal.Length\"), Symbol(\"Sepal.Width\"), Symbol(\"Petal.Length\"), Symbol(\"Petal.Width\"), :Species])\n"
     ]
    }
   ],
   "source": [
    "df = CSV.read(\"iris.csv\")\n",
    "println(names(df))\n",
    "println(df.colindex)"
   ]
  },
  {
   "cell_type": "markdown",
   "metadata": {},
   "source": [
    "## 列名の変更\n",
    "namesとrenameというふた通りのやり方がある．ちなみに!をつけるともとのDataFrameが変更される．\n",
    "\n",
    "names!(DataFrame,Array)でDataFrameの列名をArrayに変更する．\n",
    "\n",
    "rename!(DataFrame.colindex,[OldColumn => NewColumn])で同様にDataFrameの列名をNewColumnに変更する．"
   ]
  },
  {
   "cell_type": "code",
   "execution_count": 28,
   "metadata": {},
   "outputs": [
    {
     "name": "stdout",
     "output_type": "stream",
     "text": [
      "3×2 DataFrames.DataFrame\n",
      "│ Row │ A │ B  │\n",
      "├─────┼───┼────┤\n",
      "│ 1   │ 1 │ 10 │\n",
      "│ 2   │ 2 │ 11 │\n",
      "│ 3   │ 3 │ 12 │\n",
      "Symbol[:A, :B]\n",
      "Symbol[:test1, :test2]\n",
      "Symbol[:test10, :test20]\n"
     ]
    }
   ],
   "source": [
    "test_d = DataFrame(A=[1,2,3],B=[10,11,12])\n",
    "println(test_d)\n",
    "println(names(test_d))\n",
    "names!(test_d,[Symbol(\"test1\"),Symbol(\"test2\")])\n",
    "println(names(test_d))\n",
    "rename!(test_d.colindex,[Symbol(\"test1\")=>Symbol(\"test10\"),Symbol(\"test2\")=>Symbol(\"test20\")])\n",
    "println(names(test_d))"
   ]
  },
  {
   "cell_type": "markdown",
   "metadata": {},
   "source": [
    "## Get_Dummies関数"
   ]
  },
  {
   "cell_type": "code",
   "execution_count": 4,
   "metadata": {},
   "outputs": [
    {
     "name": "stdout",
     "output_type": "stream",
     "text": [
      "150×3 DataFrame\n",
      "│ Row │ setosa │ versicolor │ virginica │\n",
      "├─────┼────────┼────────────┼───────────┤\n",
      "│ 1   │ 1      │ 0          │ 0         │\n",
      "│ 2   │ 1      │ 0          │ 0         │\n",
      "│ 3   │ 1      │ 0          │ 0         │\n",
      "│ 4   │ 1      │ 0          │ 0         │\n",
      "│ 5   │ 1      │ 0          │ 0         │\n",
      "│ 6   │ 1      │ 0          │ 0         │\n",
      "│ 7   │ 1      │ 0          │ 0         │\n",
      "│ 8   │ 1      │ 0          │ 0         │\n",
      "⋮\n",
      "│ 142 │ 0      │ 0          │ 1         │\n",
      "│ 143 │ 0      │ 0          │ 1         │\n",
      "│ 144 │ 0      │ 0          │ 1         │\n",
      "│ 145 │ 0      │ 0          │ 1         │\n",
      "│ 146 │ 0      │ 0          │ 1         │\n",
      "│ 147 │ 0      │ 0          │ 1         │\n",
      "│ 148 │ 0      │ 0          │ 1         │\n",
      "│ 149 │ 0      │ 0          │ 1         │\n",
      "│ 150 │ 0      │ 0          │ 1         │\n"
     ]
    }
   ],
   "source": [
    "#colindexがバージョン1.0だと使えなくなってる\n",
    "function Get_Dummies(df::DataFrame,col::Symbol)\n",
    "    #=\n",
    "    pandasのget_dummies()のような関数\n",
    "    \n",
    "    Parameters\n",
    "    __________\n",
    "    df:ダミー変数を作りたいデータフレーム．対象のclumnsは後で指定する,T<DataFrame>\n",
    "    col:ダミー変数を作る対象のcolumn,T<Symbol>\n",
    "    \n",
    "    Returns\n",
    "    _______\n",
    "    newdf:ダミー変数化したDataFrame.ダミー変数だけ返す．T<DataFrame>\n",
    "    =#\n",
    "    data_series = df[col]#ダミー変数化するデータ列．\n",
    "    index_num = length(data_series)#入力されたDataFrameのindexの数．\n",
    "    categories = sort(levels(data_series))#ダミー変数化したいcolumnにおけるカテゴリーの配列．[cate1,cate2...]みたいな感じでsortしておく．\n",
    "    categories_num = length(categories)#ダミー変数化したいcolumnsにおけるカテゴリーの数\n",
    "    values = [i for i in 1:categories_num]#カテゴリーと数の辞書が欲しいので適当に各カテゴリーに数字を割り振る.\n",
    "    df_dummy = zeros(Int64,index_num,categories_num)#ダミー変数のDataFrameの元になるやつ．\n",
    "    namedict = Dict(zip(categories,values))\n",
    "    for i in 1:length(data_series)\n",
    "        df_dummy[i,namedict[data_series[i]]] = 1\n",
    "    end\n",
    "    newdf = convert(DataFrame,df_dummy)\n",
    "    rename!(newdf, [(Symbol(\"x$i\")=>Symbol(categories[i])) for i in 1:categories_num])#DataFrames v0.11.7にはdf.colindexがあるがv0.13.0にはないっぽ\n",
    "    return newdf\n",
    "end\n",
    "\n",
    "\n",
    "dummy_dataframe = Get_Dummies(sample_df,:Species)\n",
    "println(dummy_dataframe)"
   ]
  },
  {
   "cell_type": "markdown",
   "metadata": {},
   "source": [
    "# 行列"
   ]
  },
  {
   "cell_type": "markdown",
   "metadata": {},
   "source": [
    "## 様々な行列の生成"
   ]
  },
  {
   "cell_type": "markdown",
   "metadata": {},
   "source": [
    "$m\\times n$単位行列の生成\n",
    "\n",
    "python:np.eye((m,n))\n",
    "\n",
    "julia:eye(m,n)\n"
   ]
  },
  {
   "cell_type": "code",
   "execution_count": 5,
   "metadata": {},
   "outputs": [
    {
     "name": "stdout",
     "output_type": "stream",
     "text": [
      "[1.0 0.0 0.0 0.0; 0.0 1.0 0.0 0.0; 0.0 0.0 1.0 0.0]\n"
     ]
    }
   ],
   "source": [
    "A = eye(3,4)\n",
    "println(A)"
   ]
  },
  {
   "cell_type": "markdown",
   "metadata": {},
   "source": [
    "一次元配列は縦ベクトル扱いになるらしい．例えばある縦ベクトルと2$\\times$2行列の内積を撮ろうと思ったら，配列を転置する必要がある．"
   ]
  },
  {
   "cell_type": "code",
   "execution_count": 21,
   "metadata": {},
   "outputs": [
    {
     "name": "stdout",
     "output_type": "stream",
     "text": [
      "[1.0 2.0]\n"
     ]
    }
   ],
   "source": [
    "A = [1,2]\n",
    "B = eye(2,2)\n",
    "#println(A*B)\n",
    "println(A'*B)"
   ]
  },
  {
   "cell_type": "markdown",
   "metadata": {},
   "source": [
    "## 行列演算"
   ]
  },
  {
   "cell_type": "code",
   "execution_count": 12,
   "metadata": {},
   "outputs": [
    {
     "name": "stdout",
     "output_type": "stream",
     "text": [
      "行列A\n",
      "[1 3; 2 4]\n",
      "行列B\n",
      "[5 7; 6 8]\n",
      "行列同士の足し算はA+B\n",
      "[6 10; 8 12]\n",
      "行列同士の引き算はA-B\n",
      "[-4 -4; -4 -4]\n",
      "行列の各要素同士の積(アダマール積)はA.*B\n",
      "[5 21; 12 32]\n",
      "行列の内積はA*B\n",
      "[23 31; 34 46]\n",
      "行列の転置は'をつける．たとえばAの転置はA'\n",
      "[1 2; 3 4]\n"
     ]
    }
   ],
   "source": [
    "A = reshape([1,2,3,4],2,2)\n",
    "B = reshape([5,6,7,8],2,2)\n",
    "println(\"行列A\")\n",
    "println(A)\n",
    "println(\"行列B\")\n",
    "println(B)\n",
    "println(\"行列同士の足し算はA+B\")\n",
    "println(A+B)\n",
    "println(\"行列同士の引き算はA-B\")\n",
    "println(A-B)\n",
    "println(\"行列の各要素同士の積(アダマール積)はA.*B\")\n",
    "println(A.*B)\n",
    "println(\"行列の内積はA*B\")\n",
    "println(A*B)\n",
    "println(\"行列の転置は'をつける．たとえばAの転置はA'\")\n",
    "println(A')"
   ]
  },
  {
   "cell_type": "markdown",
   "metadata": {},
   "source": [
    "# デバッグ"
   ]
  },
  {
   "cell_type": "markdown",
   "metadata": {},
   "source": [
    "## ロジスティック回帰"
   ]
  },
  {
   "cell_type": "code",
   "execution_count": null,
   "metadata": {},
   "outputs": [],
   "source": [
    "mutable struct GPR\n",
    "    theta::Array{Float64,1}\n",
    "end"
   ]
  },
  {
   "cell_type": "code",
   "execution_count": 34,
   "metadata": {},
   "outputs": [
    {
     "name": "stdout",
     "output_type": "stream",
     "text": [
      "########\n",
      "2.3096203136409783\n",
      "[0.0924668, 0.184934, 0.277401, 0.369867]\n",
      "########\n",
      "2.155316421222524\n",
      "[0.0853602, 0.17072, 0.25608, 0.341441]\n",
      "########\n",
      "2.0120376543786964\n",
      "[0.0786531, 0.157306, 0.235959, 0.314612]\n",
      "########\n",
      "1.879235486653954\n",
      "[0.0723219, 0.144644, 0.216966, 0.289288]\n",
      "########\n",
      "1.7564082768260847\n",
      "[0.0663459, 0.132692, 0.199038, 0.265384]\n",
      "########\n",
      "1.6430932661801663\n",
      "[0.0607071, 0.121414, 0.182121, 0.242829]\n",
      "########\n",
      "1.5388581785896511\n",
      "[0.0553905, 0.110781, 0.166171, 0.221562]\n",
      "########\n",
      "1.44329266221066\n",
      "[0.0503832, 0.100766, 0.15115, 0.201533]\n",
      "########\n",
      "1.3559999037308634\n",
      "[0.0456749, 0.0913498, 0.137025, 0.1827]\n",
      "########\n",
      "1.2765888206477853\n",
      "[0.0412572, 0.0825143, 0.123771, 0.165029]\n",
      "########\n",
      "1.2046672762136\n",
      "[0.0371231, 0.0742462, 0.111369, 0.148492]\n",
      "########\n",
      "1.139836749430384\n",
      "[0.0332672, 0.0665343, 0.0998015, 0.133069]\n",
      "########\n",
      "1.0816888194250889\n",
      "[0.0296844, 0.0593687, 0.0890531, 0.118737]\n",
      "########\n",
      "1.0298036912848199\n",
      "[0.0263701, 0.0527402, 0.0791104, 0.10548]\n",
      "########\n",
      "0.983750813474352\n",
      "[0.0233195, 0.0466389, 0.0699584, 0.0932779]\n",
      "########\n",
      "0.9430914408410602\n",
      "[0.0205268, 0.0410535, 0.0615803, 0.0821071]\n",
      "########\n",
      "0.9073828132059257\n",
      "[0.0179852, 0.0359704, 0.0539556, 0.0719408]\n",
      "########\n",
      "0.8761834773563463\n",
      "[0.0156865, 0.031373, 0.0470595, 0.062746]\n",
      "########\n",
      "0.8490592012419497\n",
      "[0.0136207, 0.0272415, 0.0408622, 0.0544829]\n",
      "########\n",
      "0.8255889219966999\n",
      "[0.0117764, 0.0235527, 0.0353291, 0.0471054]\n",
      "########\n",
      "0.8053702292068013\n",
      "[0.0101403, 0.0202806, 0.0304208, 0.0405611]\n",
      "########\n",
      "0.7880239955777567\n",
      "[0.00869814, 0.0173963, 0.0260944, 0.0347926]\n",
      "########\n",
      "0.7731979061448361\n",
      "[0.0074347, 0.0148694, 0.0223041, 0.0297388]\n",
      "########\n",
      "0.7605687804422845\n",
      "[0.00633418, 0.0126684, 0.0190025, 0.0253367]\n",
      "########\n",
      "0.749843709156297\n",
      "[0.00538073, 0.0107615, 0.0161422, 0.0215229]\n",
      "########\n",
      "0.7407601240857902\n",
      "[0.00455876, 0.00911752, 0.0136763, 0.018235]\n",
      "########\n",
      "0.7330849820046481\n",
      "[0.00385334, 0.00770668, 0.01156, 0.0154134]\n",
      "########\n",
      "0.726613270605423\n",
      "[0.00325037, 0.00650074, 0.00975111, 0.0130015]\n",
      "########\n",
      "0.7211660443226229\n",
      "[0.00273683, 0.00547366, 0.00821049, 0.0109473]\n",
      "########\n",
      "0.7165881779593427\n",
      "[0.00230083, 0.00460166, 0.00690249, 0.00920332]\n",
      "########\n",
      "0.7127459951698613\n",
      "[0.00193168, 0.00386337, 0.00579505, 0.00772674]\n",
      "########\n",
      "0.7095248940483074\n",
      "[0.00161989, 0.00323978, 0.00485968, 0.00647957]\n",
      "########\n",
      "0.7068270583585363\n",
      "[0.00135709, 0.00271417, 0.00407126, 0.00542834]\n",
      "########\n",
      "0.7045693133053358\n",
      "[0.00113596, 0.00227192, 0.00340788, 0.00454384]\n",
      "########\n",
      "0.7026811605366261\n",
      "[0.000950189, 0.00190038, 0.00285057, 0.00380075]\n",
      "########\n",
      "0.7011030084751626\n",
      "[0.000794318, 0.00158864, 0.00238295, 0.00317727]\n",
      "########\n",
      "0.6997846006149878\n",
      "[0.000663679, 0.00132736, 0.00199104, 0.00265471]\n",
      "########\n",
      "0.6986836352640924\n",
      "[0.000554288, 0.00110858, 0.00166286, 0.00221715]\n",
      "########\n",
      "0.6977645644661101\n",
      "[0.00046276, 0.000925521, 0.00138828, 0.00185104]\n",
      "########\n",
      "0.6969975566412118\n",
      "[0.00038623, 0.000772459, 0.00115869, 0.00154492]\n",
      "########\n",
      "0.6963576061231174\n",
      "[0.000322274, 0.000644547, 0.000966821, 0.00128909]\n",
      "########\n",
      "0.6958237726520907\n",
      "[0.000268851, 0.000537702, 0.000806553, 0.0010754]\n",
      "########\n",
      "0.6953785345669684\n",
      "[0.000224244, 0.000448489, 0.000672733, 0.000896977]\n",
      "########\n",
      "0.695007240595513\n",
      "[0.000187011, 0.000374021, 0.000561032, 0.000748043]\n",
      "########\n",
      "0.6946976465405601\n",
      "[0.00015594, 0.00031188, 0.00046782, 0.00062376]\n",
      "########\n",
      "0.6944395246426832\n",
      "[0.000130018, 0.000260036, 0.000390054, 0.000520072]\n",
      "########\n",
      "0.6942243348667557\n",
      "[0.000108396, 0.000216791, 0.000325187, 0.000433582]\n",
      "########\n",
      "0.6940449487479076\n",
      "[9.03626e-5, 0.000180725, 0.000271088, 0.00036145]\n",
      "########\n",
      "0.6938954177077469\n",
      "[7.5325e-5, 0.00015065, 0.000225975, 0.0003013]\n",
      "########\n",
      "0.6937707788989019\n",
      "[6.27867e-5, 0.000125573, 0.00018836, 0.000251147]\n",
      "########\n",
      "0.6936668926516923\n",
      "[5.23333e-5, 0.000104667, 0.000157, 0.000209333]\n",
      "########\n",
      "0.693580306485394\n",
      "[4.36188e-5, 8.72375e-5, 0.000130856, 0.000174475]\n",
      "########\n",
      "0.6935081414168052\n",
      "[3.63543e-5, 7.27086e-5, 0.000109063, 0.000145417]\n",
      "########\n",
      "0.6934479969615641\n",
      "[3.02989e-5, 6.05979e-5, 9.08968e-5, 0.000121196]\n",
      "########\n",
      "0.69339787179056\n",
      "[2.52517e-5, 5.05034e-5, 7.57551e-5, 0.000101007]\n",
      "########\n",
      "0.6933560974864452\n",
      "[2.10449e-5, 4.20897e-5, 6.31346e-5, 8.41795e-5]\n",
      "########\n",
      "0.6933212832546096\n",
      "[1.75386e-5, 3.50773e-5, 5.26159e-5, 7.01545e-5]\n",
      "########\n",
      "0.6932922697891194\n",
      "[1.46164e-5, 2.92328e-5, 4.38492e-5, 5.84655e-5]\n",
      "########\n",
      "0.693268090786046\n",
      "[1.21809e-5, 2.43618e-5, 3.65428e-5, 4.87237e-5]\n",
      "########\n",
      "0.6932479408423134\n",
      "[1.01512e-5, 2.03024e-5, 3.04535e-5, 4.06047e-5]\n",
      "########\n",
      "0.6932311486846372\n",
      "[8.45961e-6, 1.69192e-5, 2.53788e-5, 3.38384e-5]\n",
      "########\n",
      "0.6932171548463373\n",
      "[7.04987e-6, 1.40997e-5, 2.11496e-5, 2.81995e-5]\n",
      "########\n",
      "0.6932054930549812\n",
      "[5.87503e-6, 1.17501e-5, 1.76251e-5, 2.35001e-5]\n",
      "########\n",
      "0.6931957747153419\n",
      "[4.89596e-6, 9.79192e-6, 1.46879e-5, 1.95838e-5]\n",
      "########\n",
      "0.693187675973848\n",
      "[4.08003e-6, 8.16006e-6, 1.22401e-5, 1.63201e-5]\n",
      "########\n",
      "0.6931809269357059\n",
      "[3.40007e-6, 6.80015e-6, 1.02002e-5, 1.36003e-5]\n",
      "########\n",
      "0.693175302676907\n",
      "[2.83343e-6, 5.66685e-6, 8.50028e-6, 1.13337e-5]\n",
      "########\n",
      "0.6931706157526656\n",
      "[2.36121e-6, 4.72242e-6, 7.08363e-6, 9.44485e-6]\n",
      "########\n",
      "0.6931667099533604\n",
      "[1.96769e-6, 3.93538e-6, 5.90308e-6, 7.87077e-6]\n",
      "########\n",
      "0.6931634551003946\n",
      "[1.63975e-6, 3.27951e-6, 4.91926e-6, 6.55902e-6]\n",
      "########\n",
      "0.6931607427088872\n",
      "[1.36647e-6, 2.73294e-6, 4.09941e-6, 5.46588e-6]\n",
      "########\n",
      "0.6931584823728838\n",
      "[1.13873e-6, 2.27746e-6, 3.41619e-6, 4.55492e-6]\n",
      "########\n",
      "0.6931565987527785\n",
      "[9.48945e-7, 1.89789e-6, 2.84684e-6, 3.79578e-6]\n",
      "########\n",
      "0.6931550290646565\n",
      "[7.9079e-7, 1.58158e-6, 2.37237e-6, 3.16316e-6]\n",
      "########\n",
      "0.6931537209879572\n",
      "[6.58993e-7, 1.31799e-6, 1.97698e-6, 2.63597e-6]\n",
      "########\n",
      "0.6931526309217744\n",
      "[5.49162e-7, 1.09832e-6, 1.64749e-6, 2.19665e-6]\n",
      "########\n",
      "0.6931517225317141\n",
      "[4.57636e-7, 9.15272e-7, 1.37291e-6, 1.83054e-6]\n",
      "########\n",
      "0.6931509655389041\n",
      "[3.81364e-7, 7.62728e-7, 1.14409e-6, 1.52546e-6]\n",
      "########\n",
      "0.693150334710803\n",
      "[3.17804e-7, 6.35608e-7, 9.53411e-7, 1.27122e-6]\n",
      "########\n",
      "0.6931498090201917\n",
      "[2.64837e-7, 5.29674e-7, 7.9451e-7, 1.05935e-6]\n",
      "########\n",
      "0.6931493709443161\n",
      "[2.20698e-7, 4.41395e-7, 6.62093e-7, 8.8279e-7]\n",
      "########\n",
      "0.6931490058808321\n",
      "[1.83915e-7, 3.67829e-7, 5.51744e-7, 7.35659e-7]\n",
      "########\n",
      "0.6931487016610857\n",
      "[1.53262e-7, 3.06525e-7, 4.59787e-7, 6.1305e-7]\n",
      "########\n",
      "0.6931484481445077\n",
      "[1.27719e-7, 2.55437e-7, 3.83156e-7, 5.10875e-7]\n",
      "########\n",
      "0.6931482368806074\n",
      "[1.06432e-7, 2.12865e-7, 3.19297e-7, 4.25729e-7]\n",
      "########\n",
      "0.6931480608272981\n",
      "[8.86936e-8, 1.77387e-7, 2.66081e-7, 3.54774e-7]\n",
      "########\n",
      "0.6931479141161659\n",
      "[7.39114e-8, 1.47823e-7, 2.21734e-7, 2.95645e-7]\n",
      "########\n",
      "0.6931477918568607\n",
      "[6.15928e-8, 1.23186e-7, 1.84778e-7, 2.46371e-7]\n",
      "########\n",
      "0.6931476899740866\n",
      "[5.13274e-8, 1.02655e-7, 1.53982e-7, 2.05309e-7]\n",
      "########\n",
      "0.6931476050717609\n",
      "[4.27728e-8, 8.55456e-8, 1.28318e-7, 1.71091e-7]\n",
      "########\n",
      "0.6931475343198134\n",
      "[3.5644e-8, 7.1288e-8, 1.06932e-7, 1.42576e-7]\n",
      "########\n",
      "0.6931474753598503\n",
      "[2.97033e-8, 5.94067e-8, 8.911e-8, 1.18813e-7]\n",
      "########\n",
      "0.6931474262265432\n",
      "[2.47528e-8, 4.95056e-8, 7.42584e-8, 9.90112e-8]\n",
      "########\n",
      "0.6931473852821176\n",
      "[2.06273e-8, 4.12547e-8, 6.1882e-8, 8.25093e-8]\n",
      "########\n",
      "0.6931473511617605\n",
      "[1.71894e-8, 3.43789e-8, 5.15683e-8, 6.87578e-8]\n",
      "########\n",
      "0.6931473227281282\n",
      "[1.43245e-8, 2.86491e-8, 4.29736e-8, 5.72981e-8]\n",
      "########\n",
      "0.6931472990334338\n",
      "[1.19371e-8, 2.38742e-8, 3.58113e-8, 4.77485e-8]\n",
      "########\n",
      "0.6931472792878539\n",
      "[9.9476e-9, 1.98952e-8, 2.98428e-8, 3.97904e-8]\n",
      "########\n",
      "0.6931472628332038\n",
      "[8.28966e-9, 1.65793e-8, 2.4869e-8, 3.31587e-8]\n",
      "########\n",
      "0.6931472491209948\n",
      "[6.90805e-9, 1.38161e-8, 2.07242e-8, 2.76322e-8]\n"
     ]
    }
   ],
   "source": [
    "function first_deriv(x,y,theta)\n",
    "   #=\n",
    "   コスト関数の一階微分を求める．\n",
    "    Parameters\n",
    "    __________\n",
    "    x:訓練データのx\n",
    "    y:訓練データのy\n",
    "    theta:カーネル関数のパラメータ\n",
    "   =#\n",
    "    z = StatsBase.mean(y-1.0 ./sigmoid(x,theta))#y_i - sigmoid(x_i)に各theta_jをかけたものが微分\n",
    "    return z *theta\n",
    "end\n",
    "\n",
    "function sigmoid(x,theta)\n",
    "    #=\n",
    "    シグモイド関数．\n",
    "    Parameters\n",
    "    __________\n",
    "    x:説明変数,T<DataFrame>\n",
    "    theta:パラメータ,T<Array>\n",
    "    \n",
    "    Returns\n",
    "    _______\n",
    "    sigmoided:シグモイド関数にかけたもの\n",
    "    =#\n",
    "    variable_num = size(x)[2]\n",
    "    @assert variable_num==length(theta)\n",
    "    y = convert(Array,x)*theta\n",
    "    sigmoided = 1 ./(1.0 .+ exp.(-y))\n",
    "    return sigmoided\n",
    "end\n",
    "\n",
    "function cost_function(x,theta,y)\n",
    "    #=\n",
    "    ロジスティック回帰におけるコスト関数\n",
    "    Parameters\n",
    "    __________\n",
    "    x:説明変数,T<DataFrame>\n",
    "    theta:パラメータ,T<Array>\n",
    "    y:被説明変数,T<DataFrame>\n",
    "    \n",
    "    Return\n",
    "    ______\n",
    "    cost:コスト関数の値,Float\n",
    "    =#\n",
    "    @assert size(x)[2] == length(theta)\n",
    "    p = sigmoid(x,theta)\n",
    "    cost = y .* log.(p) .+ (1.0 .- y) .* log.(1.0 .- p)\n",
    "    return -StatsBase.mean(cost)\n",
    "end\n",
    "function logistic_regression(test_x,test_y)\n",
    "    #=\n",
    "    (03/09/18)一階の微分を間違っているっぽい\n",
    "    ロジスティック回帰．\n",
    "    Parameters\n",
    "    __________\n",
    "    test_x:テストデータで説明変数,T<DataFrame>\n",
    "    =#\n",
    "    variable_num = length(names(test_x))#変数の種類\n",
    "    theta = [0.1,0.2,0.3,0.4]\n",
    "    eta = 0.1#学習率\n",
    "    \n",
    "    for iter in 1:100\n",
    "        p = cost_function(test_x,theta,Get_Dummies(sample_df,:Species)[:,1])\n",
    "        println(\"########\")\n",
    "        println(p)\n",
    "        theta += eta * first_deriv(test_x,Get_Dummies(sample_df,:Species)[:,1],theta)\n",
    "        println(theta)\n",
    "    end\n",
    "    \n",
    "    \n",
    "end\n",
    "sample_df = CSV.read(\"iris.csv\")\n",
    "test_X = sample_df[:,[2,3,4,5]]\n",
    "test_Y = sample_df[:,6]\n",
    "\n",
    "logistic_regression(test_X,test_Y)"
   ]
  },
  {
   "cell_type": "code",
   "execution_count": 16,
   "metadata": {},
   "outputs": [
    {
     "name": "stdout",
     "output_type": "stream",
     "text": [
      "[1, 2, 3]\n",
      "[10, 11, 12]\n",
      "[10, 22, 36]\n"
     ]
    },
    {
     "ename": "LoadError",
     "evalue": "UndefVarError: mean not defined",
     "output_type": "error",
     "traceback": [
      "UndefVarError: mean not defined",
      "",
      "Stacktrace:",
      " [1] top-level scope at none:0"
     ]
    }
   ],
   "source": [
    "a = [1,2,3]\n",
    "b = [10,11,12]\n",
    "println(a)\n",
    "println(b)\n",
    "println(a .* b)\n",
    "println(mean(a))"
   ]
  }
 ],
 "metadata": {
  "kernelspec": {
   "display_name": "Julia 1.0.0",
   "language": "julia",
   "name": "julia-1.0"
  },
  "language_info": {
   "file_extension": ".jl",
   "mimetype": "application/julia",
   "name": "julia",
   "version": "1.0.0"
  }
 },
 "nbformat": 4,
 "nbformat_minor": 2
}
